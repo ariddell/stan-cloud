{
 "cells": [
  {
   "cell_type": "markdown",
   "metadata": {},
   "source": [
    "## Getting Started (CmdStan)\n",
    "\n",
    "This notebook has been **launched just for you**. It provides an easy way to try out Stan.\n",
    "\n",
    "<div class=\"alert alert-warning\" role=\"alert\" style=\"margin: 10px\">\n",
    "<p>**WARNING**</p>\n",
    "\n",
    "<p>Don't rely on this server for anything you want to last - your notebook will be *deleted after 10 minutes of inactivity*.</p>\n",
    "</div>"
   ]
  },
  {
   "cell_type": "code",
   "execution_count": 2,
   "metadata": {
    "collapsed": false
   },
   "outputs": [
    {
     "name": "stdout",
     "output_type": "stream",
     "text": [
      "Getting Started (CmdStan).ipynb  Getting Started (RStan).ipynb\r\n",
      "Getting Started (PyStan).ipynb\r\n"
     ]
    }
   ],
   "source": [
    "ls"
   ]
  },
  {
   "cell_type": "code",
   "execution_count": 3,
   "metadata": {
    "collapsed": false
   },
   "outputs": [
    {
     "name": "stdout",
     "output_type": "stream",
     "text": [
      "  % Total    % Received % Xferd  Average Speed   Time    Time     Time  Current\r\n",
      "                                 Dload  Upload   Total   Spent    Left  Speed\r\n",
      "\r",
      "  0     0    0     0    0     0      0      0 --:--:-- --:--:-- --:--:--     0\r",
      "100   401    0   401    0     0   6836      0 --:--:-- --:--:-- --:--:--  6913\r\n",
      "\r",
      " 17 32.7M   17 5744k    0     0  7409k      0  0:00:04 --:--:--  0:00:04 7409k\r",
      " 38 32.7M   38 12.6M    0     0  7331k      0  0:00:04  0:00:01  0:00:03 7263k\r",
      " 49 32.7M   49 16.1M    0     0  4814k      0  0:00:06  0:00:03  0:00:03 4055k\r",
      " 51 32.7M   51 16.9M    0     0  2391k      0  0:00:14  0:00:07  0:00:07 1792k\r",
      " 54 32.7M   54 17.7M    0     0  2337k      0  0:00:14  0:00:07  0:00:07 1776k\r",
      " 83 32.7M   83 27.2M    0     0  3176k      0  0:00:10  0:00:08  0:00:02 2766k\r",
      " 85 32.7M   85 27.9M    0     0  2912k      0  0:00:11  0:00:09  0:00:02 1942k\r",
      " 86 32.7M   86 28.4M    0     0  2702k      0  0:00:12  0:00:10  0:00:02 1721k\r",
      "100 32.7M  100 32.7M    0     0  2984k      0  0:00:11  0:00:11 --:--:-- 4071k\r\n"
     ]
    }
   ],
   "source": [
    "curl -L https://github.com/stan-dev/cmdstan/releases/download/v2.6.2/cmdstan-2.6.2.tar.gz | tar -zxf -"
   ]
  },
  {
   "cell_type": "code",
   "execution_count": 4,
   "metadata": {
    "collapsed": false
   },
   "outputs": [
    {
     "name": "stdout",
     "output_type": "stream",
     "text": [
      "\u001b[0m\u001b[01;34mcmdstan-2.6.2\u001b[0m                    Getting Started (PyStan).ipynb\r\n",
      "Getting Started (CmdStan).ipynb  Getting Started (RStan).ipynb\r\n"
     ]
    }
   ],
   "source": [
    "ls"
   ]
  },
  {
   "cell_type": "code",
   "execution_count": null,
   "metadata": {
    "collapsed": false
   },
   "outputs": [],
   "source": [
    "cd cmdstan-2.6.2"
   ]
  },
  {
   "cell_type": "code",
   "execution_count": 6,
   "metadata": {
    "collapsed": false
   },
   "outputs": [
    {
     "name": "stdout",
     "output_type": "stream",
     "text": [
      "g++ -DBOOST_RESULT_OF_USE_TR1 -DBOOST_NO_DECLTYPE -DBOOST_DISABLE_ASSERTS -I src -I stan/src -isystem stan/lib/eigen_3.2.4 -isystem stan/lib/boost_1.55.0 -Wall -pipe -DEIGEN_NO_DEBUG -Wno-unused-local-typedefs   -c -O3 -o bin/cmdstan/stanc.o src/cmdstan/stanc.cpp\r\n",
      "g++ -DBOOST_RESULT_OF_USE_TR1 -DBOOST_NO_DECLTYPE -DBOOST_DISABLE_ASSERTS -I src -I stan/src -isystem stan/lib/eigen_3.2.4 -isystem stan/lib/boost_1.55.0 -Wall -pipe -DEIGEN_NO_DEBUG -Wno-unused-local-typedefs   -c -O0 -o bin/stan/lang/grammars/expression07_grammar_inst.o stan/src/stan/lang/grammars/expression07_grammar_inst.cpp\r\n",
      "g++ -DBOOST_RESULT_OF_USE_TR1 -DBOOST_NO_DECLTYPE -DBOOST_DISABLE_ASSERTS -I src -I stan/src -isystem stan/lib/eigen_3.2.4 -isystem stan/lib/boost_1.55.0 -Wall -pipe -DEIGEN_NO_DEBUG -Wno-unused-local-typedefs   -c -O0 -o bin/stan/lang/grammars/statement_grammar_inst.o stan/src/stan/lang/grammars/statement_grammar_inst.cpp\r\n",
      "g++ -DBOOST_RESULT_OF_USE_TR1 -DBOOST_NO_DECLTYPE -DBOOST_DISABLE_ASSERTS -I src -I stan/src -isystem stan/lib/eigen_3.2.4 -isystem stan/lib/boost_1.55.0 -Wall -pipe -DEIGEN_NO_DEBUG -Wno-unused-local-typedefs   -c -O0 -o bin/stan/lang/grammars/program_grammar_inst.o stan/src/stan/lang/grammars/program_grammar_inst.cpp\r\n",
      "g++ -DBOOST_RESULT_OF_USE_TR1 -DBOOST_NO_DECLTYPE -DBOOST_DISABLE_ASSERTS -I src -I stan/src -isystem stan/lib/eigen_3.2.4 -isystem stan/lib/boost_1.55.0 -Wall -pipe -DEIGEN_NO_DEBUG -Wno-unused-local-typedefs   -c -O0 -o bin/stan/lang/grammars/term_grammar_inst.o stan/src/stan/lang/grammars/term_grammar_inst.cpp\r\n",
      "g++ -DBOOST_RESULT_OF_USE_TR1 -DBOOST_NO_DECLTYPE -DBOOST_DISABLE_ASSERTS -I src -I stan/src -isystem stan/lib/eigen_3.2.4 -isystem stan/lib/boost_1.55.0 -Wall -pipe -DEIGEN_NO_DEBUG -Wno-unused-local-typedefs   -c -O0 -o bin/stan/lang/grammars/var_decls_grammar_inst.o stan/src/stan/lang/grammars/var_decls_grammar_inst.cpp\r\n",
      "g++ -DBOOST_RESULT_OF_USE_TR1 -DBOOST_NO_DECLTYPE -DBOOST_DISABLE_ASSERTS -I src -I stan/src -isystem stan/lib/eigen_3.2.4 -isystem stan/lib/boost_1.55.0 -Wall -pipe -DEIGEN_NO_DEBUG -Wno-unused-local-typedefs   -c -O0 -o bin/stan/lang/grammars/bare_type_grammar_inst.o stan/src/stan/lang/grammars/bare_type_grammar_inst.cpp\r\n",
      "g++ -DBOOST_RESULT_OF_USE_TR1 -DBOOST_NO_DECLTYPE -DBOOST_DISABLE_ASSERTS -I src -I stan/src -isystem stan/lib/eigen_3.2.4 -isystem stan/lib/boost_1.55.0 -Wall -pipe -DEIGEN_NO_DEBUG -Wno-unused-local-typedefs   -c -O0 -o bin/stan/lang/grammars/whitespace_grammar_inst.o stan/src/stan/lang/grammars/whitespace_grammar_inst.cpp\r\n",
      "g++ -DBOOST_RESULT_OF_USE_TR1 -DBOOST_NO_DECLTYPE -DBOOST_DISABLE_ASSERTS -I src -I stan/src -isystem stan/lib/eigen_3.2.4 -isystem stan/lib/boost_1.55.0 -Wall -pipe -DEIGEN_NO_DEBUG -Wno-unused-local-typedefs   -c -O0 -o bin/stan/lang/grammars/statement_2_grammar_inst.o stan/src/stan/lang/grammars/statement_2_grammar_inst.cpp\r\n",
      "g++ -DBOOST_RESULT_OF_USE_TR1 -DBOOST_NO_DECLTYPE -DBOOST_DISABLE_ASSERTS -I src -I stan/src -isystem stan/lib/eigen_3.2.4 -isystem stan/lib/boost_1.55.0 -Wall -pipe -DEIGEN_NO_DEBUG -Wno-unused-local-typedefs   -c -O0 -o bin/stan/lang/grammars/expression_grammar_inst.o stan/src/stan/lang/grammars/expression_grammar_inst.cpp\r\n",
      "g++ -DBOOST_RESULT_OF_USE_TR1 -DBOOST_NO_DECLTYPE -DBOOST_DISABLE_ASSERTS -I src -I stan/src -isystem stan/lib/eigen_3.2.4 -isystem stan/lib/boost_1.55.0 -Wall -pipe -DEIGEN_NO_DEBUG -Wno-unused-local-typedefs   -c -O0 -o bin/stan/lang/grammars/functions_grammar_inst.o stan/src/stan/lang/grammars/functions_grammar_inst.cpp\r\n",
      "g++ -DBOOST_RESULT_OF_USE_TR1 -DBOOST_NO_DECLTYPE -DBOOST_DISABLE_ASSERTS -I src -I stan/src -isystem stan/lib/eigen_3.2.4 -isystem stan/lib/boost_1.55.0 -Wall -pipe -DEIGEN_NO_DEBUG -Wno-unused-local-typedefs   -c -O0 -o bin/stan/lang/ast_def.o stan/src/stan/lang/ast_def.cpp\r\n",
      "g++ -DBOOST_RESULT_OF_USE_TR1 -DBOOST_NO_DECLTYPE -DBOOST_DISABLE_ASSERTS -I src -I stan/src -isystem stan/lib/eigen_3.2.4 -isystem stan/lib/boost_1.55.0 -Wall -pipe -DEIGEN_NO_DEBUG -Wno-unused-local-typedefs   -c -O3 -o bin/cmdstan/print.o src/cmdstan/print.cpp\r\n",
      "g++ -DBOOST_RESULT_OF_USE_TR1 -DBOOST_NO_DECLTYPE -DBOOST_DISABLE_ASSERTS -I src -I stan/src -isystem stan/lib/eigen_3.2.4 -isystem stan/lib/boost_1.55.0 -Wall -pipe -DEIGEN_NO_DEBUG -Wno-unused-local-typedefs  -lpthread  -O0 -o bin/print bin/cmdstan/print.o \r\n",
      "ar -rs bin/libstanc.a bin/stan/lang/grammars/expression07_grammar_inst.o bin/stan/lang/grammars/statement_grammar_inst.o bin/stan/lang/grammars/program_grammar_inst.o bin/stan/lang/grammars/term_grammar_inst.o bin/stan/lang/grammars/var_decls_grammar_inst.o bin/stan/lang/grammars/bare_type_grammar_inst.o bin/stan/lang/grammars/whitespace_grammar_inst.o bin/stan/lang/grammars/statement_2_grammar_inst.o bin/stan/lang/grammars/expression_grammar_inst.o bin/stan/lang/grammars/functions_grammar_inst.o bin/stan/lang/ast_def.o\r\n",
      "ar: creating bin/libstanc.a\r\n",
      "g++ -DBOOST_RESULT_OF_USE_TR1 -DBOOST_NO_DECLTYPE -DBOOST_DISABLE_ASSERTS -I src -I stan/src -isystem stan/lib/eigen_3.2.4 -isystem stan/lib/boost_1.55.0 -Wall -pipe -DEIGEN_NO_DEBUG -Wno-unused-local-typedefs  -lpthread  -O0 -o bin/stanc bin/cmdstan/stanc.o -Lbin -lstanc\r\n",
      "\r\n",
      "\r\n",
      "--- CmdStan built ---\r\n"
     ]
    }
   ],
   "source": [
    "# this may take some time\n",
    "make build -j2"
   ]
  },
  {
   "cell_type": "code",
   "execution_count": 11,
   "metadata": {
    "collapsed": false
   },
   "outputs": [
    {
     "name": "stdout",
     "output_type": "stream",
     "text": [
      "data { \r\n",
      "  int<lower=0> N; \r\n",
      "  int<lower=0,upper=1> y[N];\r\n",
      "} \r\n",
      "parameters {\r\n",
      "  real<lower=0,upper=1> theta;\r\n",
      "} \r\n",
      "model {\r\n",
      "  theta ~ beta(1,1);\r\n",
      "  for (n in 1:N) \r\n",
      "    y[n] ~ bernoulli(theta);\r\n",
      "}\r\n"
     ]
    }
   ],
   "source": [
    "cat examples/bernoulli/bernoulli.stan"
   ]
  },
  {
   "cell_type": "code",
   "execution_count": 12,
   "metadata": {
    "collapsed": false
   },
   "outputs": [
    {
     "name": "stdout",
     "output_type": "stream",
     "text": [
      "N <- 10\r\n",
      "y <- c(0,1,0,0,0,0,0,0,0,1)"
     ]
    }
   ],
   "source": [
    "cat examples/bernoulli/bernoulli.data.R"
   ]
  },
  {
   "cell_type": "code",
   "execution_count": 20,
   "metadata": {
    "collapsed": false
   },
   "outputs": [
    {
     "name": "stdout",
     "output_type": "stream",
     "text": [
      "\r\n",
      "--- Translating Stan model to C++ code ---\r\n",
      "bin/stanc examples/bernoulli/bernoulli.stan --o=examples/bernoulli/bernoulli.hpp\r\n",
      "Model name=bernoulli_model\r\n",
      "Input file=examples/bernoulli/bernoulli.stan\r\n",
      "Output file=examples/bernoulli/bernoulli.hpp\r\n",
      "\r\n",
      "--- Linking C++ model ---\r\n",
      "g++ -DBOOST_RESULT_OF_USE_TR1 -DBOOST_NO_DECLTYPE -DBOOST_DISABLE_ASSERTS -I src -I stan/src -isystem stan/lib/eigen_3.2.4 -isystem stan/lib/boost_1.55.0 -Wall -pipe -DEIGEN_NO_DEBUG -Wno-unused-local-typedefs  -lpthread  -O3 -o examples/bernoulli/bernoulli src/cmdstan/main.cpp -include examples/bernoulli/bernoulli.hpp \r\n"
     ]
    }
   ],
   "source": [
    "make examples/bernoulli/bernoulli"
   ]
  },
  {
   "cell_type": "code",
   "execution_count": 24,
   "metadata": {
    "collapsed": false
   },
   "outputs": [
    {
     "name": "stdout",
     "output_type": "stream",
     "text": [
      " method = sample (Default)\r\n",
      "   sample\r\n",
      "     num_samples = 1000 (Default)\r\n",
      "     num_warmup = 1000 (Default)\r\n",
      "     save_warmup = 0 (Default)\r\n",
      "     thin = 1 (Default)\r\n",
      "     adapt\r\n",
      "       engaged = 1 (Default)\r\n",
      "       gamma = 0.050000000000000003 (Default)\r\n",
      "       delta = 0.80000000000000004 (Default)\r\n",
      "       kappa = 0.75 (Default)\r\n",
      "       t0 = 10 (Default)\r\n",
      "       init_buffer = 75 (Default)\r\n",
      "       term_buffer = 50 (Default)\r\n",
      "       window = 25 (Default)\r\n",
      "     algorithm = hmc (Default)\r\n",
      "       hmc\r\n",
      "         engine = nuts (Default)\r\n",
      "           nuts\r\n",
      "             max_depth = 10 (Default)\r\n",
      "         metric = diag_e (Default)\r\n",
      "         stepsize = 1 (Default)\r\n",
      "         stepsize_jitter = 0 (Default)\r\n",
      " id = 0 (Default)\r\n",
      " data\r\n",
      "   file = examples/bernoulli/bernoulli.data.R\r\n",
      " init = 2 (Default)\r\n",
      " random\r\n",
      "   seed = 1057341862\r\n",
      " output\r\n",
      "   file = output.csv (Default)\r\n",
      "   diagnostic_file =  (Default)\r\n",
      "   refresh = 100 (Default)\r\n",
      "\r\n",
      "\r\n",
      "Gradient evaluation took 4e-06 seconds\r\n",
      "1000 transitions using 10 leapfrog steps per transition would take 0.04 seconds.\r\n",
      "Adjust your expectations accordingly!\r\n",
      "\r\n",
      "\r\n",
      "Iteration:    1 / 2000 [  0%]  (Warmup)\r\n",
      "Iteration:  100 / 2000 [  5%]  (Warmup)\r\n",
      "Iteration:  200 / 2000 [ 10%]  (Warmup)\r\n",
      "Iteration:  300 / 2000 [ 15%]  (Warmup)\r\n",
      "Iteration:  400 / 2000 [ 20%]  (Warmup)\r\n",
      "Iteration:  500 / 2000 [ 25%]  (Warmup)\r\n",
      "Iteration:  600 / 2000 [ 30%]  (Warmup)\r\n",
      "Iteration:  700 / 2000 [ 35%]  (Warmup)\r\n",
      "Iteration:  800 / 2000 [ 40%]  (Warmup)\r\n",
      "Iteration:  900 / 2000 [ 45%]  (Warmup)\r\n",
      "Iteration: 1000 / 2000 [ 50%]  (Warmup)\r\n",
      "Iteration: 1001 / 2000 [ 50%]  (Sampling)\r\n",
      "Iteration: 1100 / 2000 [ 55%]  (Sampling)\r\n",
      "Iteration: 1200 / 2000 [ 60%]  (Sampling)\r\n",
      "Iteration: 1300 / 2000 [ 65%]  (Sampling)\r\n",
      "Iteration: 1400 / 2000 [ 70%]  (Sampling)\r\n",
      "Iteration: 1500 / 2000 [ 75%]  (Sampling)\r\n",
      "Iteration: 1600 / 2000 [ 80%]  (Sampling)\r\n",
      "Iteration: 1700 / 2000 [ 85%]  (Sampling)\r\n",
      "Iteration: 1800 / 2000 [ 90%]  (Sampling)\r\n",
      "Iteration: 1900 / 2000 [ 95%]  (Sampling)\r\n",
      "Iteration: 2000 / 2000 [100%]  (Sampling)\r\n",
      "\r\n",
      "#  Elapsed Time: 0.009264 seconds (Warm-up)\r\n",
      "#                0.017123 seconds (Sampling)\r\n",
      "#                0.026387 seconds (Total)\r\n",
      "\r\n"
     ]
    }
   ],
   "source": [
    "./examples/bernoulli/bernoulli sample data file=examples/bernoulli/bernoulli.data.R"
   ]
  },
  {
   "cell_type": "code",
   "execution_count": 25,
   "metadata": {
    "collapsed": false
   },
   "outputs": [
    {
     "name": "stdout",
     "output_type": "stream",
     "text": [
      "Inference for Stan model: bernoulli_model\r\n",
      "1 chains: each with iter=(1000); warmup=(0); thin=(1); 1000 iterations saved.\r\n",
      "\r\n",
      "Warmup took (0.0093) seconds, 0.0093 seconds total\r\n",
      "Sampling took (0.017) seconds, 0.017 seconds total\r\n",
      "\r\n",
      "                Mean     MCSE   StdDev     5%   50%   95%  N_Eff  N_Eff/s    R_hat\r\n",
      "lp__            -7.3  3.7e-02  7.7e-01   -8.9  -7.0  -6.8    422    24670  1.0e+00\r\n",
      "accept_stat__   0.90  4.7e-03  1.5e-01   0.58  0.97   1.0   1000    58401  1.0e+00\r\n",
      "stepsize__       1.1  5.0e-15  3.6e-15    1.1   1.1   1.1   0.50       29  1.0e+00\r\n",
      "treedepth__      1.7  1.6e-02  4.8e-01    1.0   2.0   2.0    899    52481  1.0e+00\r\n",
      "n_leapfrog__     2.4  3.2e-02  9.7e-01    1.0   3.0   3.0    910    53161  1.0e+00\r\n",
      "n_divergent__   0.00  0.0e+00  0.0e+00   0.00  0.00  0.00   1000    58401     -nan\r\n",
      "theta           0.24  5.9e-03  1.2e-01  0.075  0.22  0.46    381    22246  1.0e+00\r\n",
      "\r\n",
      "Samples were drawn using hmc with nuts.\r\n",
      "For each parameter, N_Eff is a crude measure of effective sample size,\r\n",
      "and R_hat is the potential scale reduction factor on split chains (at \r\n",
      "convergence, R_hat=1).\r\n",
      "\r\n"
     ]
    }
   ],
   "source": [
    "./bin/print output.csv"
   ]
  }
 ],
 "metadata": {
  "kernelspec": {
   "display_name": "Bash",
   "language": "bash",
   "name": "bash"
  },
  "language_info": {
   "codemirror_mode": "shell",
   "file_extension": ".sh",
   "mimetype": "text/x-sh",
   "name": "bash"
  }
 },
 "nbformat": 4,
 "nbformat_minor": 0
}
